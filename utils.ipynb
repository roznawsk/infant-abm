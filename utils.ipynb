{
 "cells": [
  {
   "cell_type": "code",
   "execution_count": 7,
   "metadata": {},
   "outputs": [],
   "source": [
    "import numpy as np\n",
    "from matplotlib import pyplot as plt"
   ]
  },
  {
   "cell_type": "code",
   "execution_count": 1,
   "metadata": {},
   "outputs": [],
   "source": [
    "import matplotlib.colors as colors\n",
    "\n",
    "\n",
    "def truncate_colormap(cmap_name, minval=0.0, maxval=1.0, n=100):\n",
    "    cmap = plt.get_cmap(cmap_name)\n",
    "    new_cmap = colors.LinearSegmentedColormap.from_list(\n",
    "        \"trunc({n},{a:.2f},{b:.2f})\".format(n=cmap.name, a=minval, b=maxval),\n",
    "        cmap(np.linspace(minval, maxval, n)),\n",
    "    )\n",
    "    return new_cmap\n",
    "\n",
    "\n",
    "def plot_params_3d(ax, df, title=None, limits=None, s=40, **kwargs):\n",
    "    if limits is None:\n",
    "        limits = [(0, 1)] * 3\n",
    "\n",
    "    print(limits)\n",
    "\n",
    "    ax.set_xlim(limits[0])\n",
    "    ax.set_ylim(limits[1])\n",
    "    ax.set_zlim(limits[2])\n",
    "\n",
    "    ax.set_xlabel(\"perception\", fontweight=\"bold\")\n",
    "    ax.set_ylabel(\"persistence\", fontweight=\"bold\")\n",
    "    ax.set_zlabel(\"coordination\", fontweight=\"bold\")\n",
    "\n",
    "    perc, pers, coord = df[[\"perception\", \"persistence\", \"coordination\"]].to_numpy().T\n",
    "\n",
    "    plot = ax.scatter3D(\n",
    "        perc, pers, coord, cmap=truncate_colormap(\"YlOrBr_r\", 0, 0.7), s=s, **kwargs\n",
    "    )\n",
    "    plt.title(title)\n",
    "\n",
    "    ax.set_box_aspect(None, zoom=0.85)\n",
    "    # ax.tick_params(axis=\"x\", pad=30)\n",
    "\n",
    "    ax.tick_params(axis=\"x\", which=\"major\", pad=5)\n",
    "    ax.tick_params(axis=\"y\", which=\"major\", pad=5)\n",
    "\n",
    "    ax.xaxis.labelpad = 15\n",
    "    ax.yaxis.labelpad = 25\n",
    "    ax.zaxis.labelpad = 15\n",
    "\n",
    "    return plot"
   ]
  },
  {
   "cell_type": "code",
   "execution_count": 9,
   "metadata": {},
   "outputs": [],
   "source": [
    "def running_avg(x, steps, m=\"same\"):\n",
    "    return np.convolve(x, np.ones(steps) / steps, mode=m)"
   ]
  }
 ],
 "metadata": {
  "kernelspec": {
   "display_name": ".venv",
   "language": "python",
   "name": "python3"
  },
  "language_info": {
   "codemirror_mode": {
    "name": "ipython",
    "version": 3
   },
   "file_extension": ".py",
   "mimetype": "text/x-python",
   "name": "python",
   "nbconvert_exporter": "python",
   "pygments_lexer": "ipython3",
   "version": "3.12.5"
  }
 },
 "nbformat": 4,
 "nbformat_minor": 2
}
